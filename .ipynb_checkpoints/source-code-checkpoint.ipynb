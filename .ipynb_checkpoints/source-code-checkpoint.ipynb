{
 "cells": [
  {
   "cell_type": "markdown",
   "id": "b1b5defd",
   "metadata": {},
   "source": [
    "Test and execution code to produce Gauss Legendre Quadrature roots and weights per degree n. This is quite messy, so definitely feel free to view the pdf for an in-depth analysis."
   ]
  },
  {
   "cell_type": "code",
   "execution_count": 348,
   "id": "b8dfb105",
   "metadata": {
    "collapsed": true
   },
   "outputs": [
    {
     "name": "stderr",
     "output_type": "stream",
     "text": [
      "\u001b[32m\u001b[1m   Resolving\u001b[22m\u001b[39m package versions...\n",
      "\u001b[32m\u001b[1m  No Changes\u001b[22m\u001b[39m to `C:\\Users\\CT\\.julia\\environments\\v1.9\\Project.toml`\n",
      "\u001b[32m\u001b[1m  No Changes\u001b[22m\u001b[39m to `C:\\Users\\CT\\.julia\\environments\\v1.9\\Manifest.toml`\n",
      "\u001b[32m\u001b[1m   Resolving\u001b[22m\u001b[39m package versions...\n",
      "\u001b[32m\u001b[1m  No Changes\u001b[22m\u001b[39m to `C:\\Users\\CT\\.julia\\environments\\v1.9\\Project.toml`\n",
      "\u001b[32m\u001b[1m  No Changes\u001b[22m\u001b[39m to `C:\\Users\\CT\\.julia\\environments\\v1.9\\Manifest.toml`\n",
      "\u001b[32m\u001b[1m   Resolving\u001b[22m\u001b[39m package versions...\n",
      "\u001b[32m\u001b[1m  No Changes\u001b[22m\u001b[39m to `C:\\Users\\CT\\.julia\\environments\\v1.9\\Project.toml`\n",
      "\u001b[32m\u001b[1m  No Changes\u001b[22m\u001b[39m to `C:\\Users\\CT\\.julia\\environments\\v1.9\\Manifest.toml`\n",
      "\u001b[32m\u001b[1m   Resolving\u001b[22m\u001b[39m package versions...\n",
      "\u001b[32m\u001b[1m  No Changes\u001b[22m\u001b[39m to `C:\\Users\\CT\\.julia\\environments\\v1.9\\Project.toml`\n",
      "\u001b[32m\u001b[1m  No Changes\u001b[22m\u001b[39m to `C:\\Users\\CT\\.julia\\environments\\v1.9\\Manifest.toml`\n",
      "\u001b[32m\u001b[1m   Resolving\u001b[22m\u001b[39m package versions...\n",
      "\u001b[32m\u001b[1m  No Changes\u001b[22m\u001b[39m to `C:\\Users\\CT\\.julia\\environments\\v1.9\\Project.toml`\n",
      "\u001b[32m\u001b[1m  No Changes\u001b[22m\u001b[39m to `C:\\Users\\CT\\.julia\\environments\\v1.9\\Manifest.toml`\n",
      "\u001b[32m\u001b[1m   Resolving\u001b[22m\u001b[39m package versions...\n",
      "\u001b[32m\u001b[1m  No Changes\u001b[22m\u001b[39m to `C:\\Users\\CT\\.julia\\environments\\v1.9\\Project.toml`\n",
      "\u001b[32m\u001b[1m  No Changes\u001b[22m\u001b[39m to `C:\\Users\\CT\\.julia\\environments\\v1.9\\Manifest.toml`\n",
      "\u001b[32m\u001b[1m   Resolving\u001b[22m\u001b[39m package versions...\n",
      "\u001b[32m\u001b[1m  No Changes\u001b[22m\u001b[39m to `C:\\Users\\CT\\.julia\\environments\\v1.9\\Project.toml`\n",
      "\u001b[32m\u001b[1m  No Changes\u001b[22m\u001b[39m to `C:\\Users\\CT\\.julia\\environments\\v1.9\\Manifest.toml`\n",
      "\u001b[32m\u001b[1m   Resolving\u001b[22m\u001b[39m package versions...\n",
      "\u001b[32m\u001b[1m  No Changes\u001b[22m\u001b[39m to `C:\\Users\\CT\\.julia\\environments\\v1.9\\Project.toml`\n",
      "\u001b[32m\u001b[1m  No Changes\u001b[22m\u001b[39m to `C:\\Users\\CT\\.julia\\environments\\v1.9\\Manifest.toml`\n",
      "\u001b[32m\u001b[1m   Resolving\u001b[22m\u001b[39m package versions...\n",
      "\u001b[32m\u001b[1m   Installed\u001b[22m\u001b[39m CommonEq ─ v0.2.0\n",
      "\u001b[32m\u001b[1m   Installed\u001b[22m\u001b[39m SymPy ──── v1.2.0\n",
      "\u001b[32m\u001b[1m    Updating\u001b[22m\u001b[39m `C:\\Users\\CT\\.julia\\environments\\v1.9\\Project.toml`\n",
      "  \u001b[90m[24249f21] \u001b[39m\u001b[92m+ SymPy v1.2.0\u001b[39m\n",
      "\u001b[32m\u001b[1m    Updating\u001b[22m\u001b[39m `C:\\Users\\CT\\.julia\\environments\\v1.9\\Manifest.toml`\n",
      "  \u001b[90m[3709ef60] \u001b[39m\u001b[92m+ CommonEq v0.2.0\u001b[39m\n",
      "  \u001b[90m[24249f21] \u001b[39m\u001b[92m+ SymPy v1.2.0\u001b[39m\n",
      "\u001b[32m\u001b[1mPrecompiling\u001b[22m\u001b[39m project...\n",
      "\u001b[32m  ✓ \u001b[39m\u001b[90mCommonEq\u001b[39m\n",
      "\u001b[32m  ✓ \u001b[39mSymPy\n",
      "\u001b[32m  ✓ \u001b[39m\u001b[90mRoots → RootsSymPyExt\u001b[39m\n",
      "  3 dependencies successfully precompiled in 102 seconds. 307 already precompiled.\n",
      "  \u001b[33m1\u001b[39m dependency had warnings during precompilation:\u001b[33m\n",
      "┌ \u001b[39mRootsSymPyExt [2888c876-2121-5b69-bdf8-e0b38ada0b70]\u001b[33m\n",
      "│  \u001b[39m\u001b[36m\u001b[1m[ \u001b[22m\u001b[39m\u001b[36m\u001b[1mInfo: \u001b[22m\u001b[39mInstalling sympy via the Conda sympy package...\u001b[33m\n",
      "│  \u001b[39m\u001b[36m\u001b[1m[ \u001b[22m\u001b[39m\u001b[36m\u001b[1mInfo: \u001b[22m\u001b[39mRunning `conda install -y sympy` in root environment\u001b[33m\n",
      "\u001b[33m39m\n",
      "\u001b[33m39m\n",
      "\u001b[33m39m==> WARNING: A newer version of conda exists. <==\n",
      "\u001b[33m39m  current version: 23.3.1\n",
      "\u001b[33m39m  latest version: 23.10.0\n",
      "\u001b[33m39m\n",
      "\u001b[33m39mPlease update conda by running\n",
      "\u001b[33m39m\n",
      "\u001b[33m39m    $ conda update -n base -c conda-forge conda\n",
      "\u001b[33m39m\n",
      "\u001b[33m39mOr to minimize the number of packages updated during conda update use\n",
      "\u001b[33m39m\n",
      "│  \u001b[39m     conda install conda=23.10.0\u001b[33m\n",
      "└  \u001b[39m\n"
     ]
    }
   ],
   "source": [
    "import Pkg; \n",
    "Pkg.add(\"Roots\")\n",
    "Pkg.add(\"DataFrames\")\n",
    "Pkg.add(\"IJulia\")\n",
    "Pkg.add(\"PrettyTables\")\n",
    "Pkg.add(\"QuadGK\")\n",
    "Pkg.add(\"FastGaussQuadrature\")\n",
    "Pkg.add(\"LegendrePolynomials\")\n",
    "Pkg.add(\"QuadGK\")\n",
    "Pkg.add(\"SymPy\")"
   ]
  },
  {
   "cell_type": "code",
   "execution_count": 2,
   "id": "f29f126b",
   "metadata": {},
   "outputs": [],
   "source": [
    "using Roots, PrettyTables, DataFrames, IJulia"
   ]
  },
  {
   "cell_type": "code",
   "execution_count": 3,
   "id": "8b9841e6",
   "metadata": {},
   "outputs": [],
   "source": [
    "using Test, FastGaussQuadrature, LegendrePolynomials, LinearAlgebra, QuadGK, SymPy"
   ]
  },
  {
   "cell_type": "code",
   "execution_count": 5,
   "id": "25ace643",
   "metadata": {},
   "outputs": [
    {
     "data": {
      "text/plain": [
       "legendre_roots_and_weights (generic function with 1 method)"
      ]
     },
     "execution_count": 5,
     "metadata": {},
     "output_type": "execute_result"
    }
   ],
   "source": [
    "# find legendre poly for degree n\n",
    "function legendre(n, x)\n",
    "    if n <= -1 || typeof(n) != Int64 throw(DomainError(n, \"n must be non-negative integer!\")) end\n",
    "    if n == 0 return 1.0  # base case: p0(x) = 1\n",
    "    elseif n == 1 return x  # base case: p1(x) = x\n",
    "    else\n",
    "        # three-term recurrence formula to calculate Legendre polynomial pn(x) for n\n",
    "        return ((2 * n - 1) * x * legendre(n - 1, x) - (n - 1) * legendre(n - 2, x)) / n\n",
    "    end\n",
    "end\n",
    "\n",
    "# calculate derivative of Legendre polynomial for degree n\n",
    "function legendre_derivative(n, x)\n",
    "    if n <= -1 || typeof(n) != Int64 throw(DomainError(n, \"n must be non-negative integer!\")) end\n",
    "    if n == 0 return 0.0  # derivative of 1 is 0\n",
    "    else\n",
    "        # recursive formula to calculate derivative\n",
    "        return n * (x * legendre(n, x) - legendre(n - 1, x)) / (x^2 - 1)\n",
    "    end\n",
    "end\n",
    "\n",
    "# find Legendre polynomial roots and weights\n",
    "function legendre_roots_and_weights(n)   \n",
    "    if n <= -1 || typeof(n) != Int64 throw(DomainError(n, \"n must be non-negative integer!\")) end\n",
    "    # Use the roots library to find the roots of Legendre polynomial pn(x)\n",
    "    roots = find_zeros(x -> legendre(n,x), -1.0, 1.0)\n",
    "    \n",
    "    # calculate the weights of the Legendre polynomial roots using weights formula\n",
    "    weights = [2 / ((1 - root^2) * (legendre_derivative(n, root))^2) for root in roots]\n",
    "    \n",
    "    return roots, weights\n",
    "end"
   ]
  },
  {
   "cell_type": "code",
   "execution_count": 6,
   "id": "c328c9bb",
   "metadata": {},
   "outputs": [
    {
     "data": {
      "text/plain": [
       "([-0.906179845938664, -0.538469310105683, 0.0, 0.538469310105683, 0.906179845938664], [0.236926885056189, 0.47862867049936636, 0.5688888888888889, 0.47862867049936636, 0.236926885056189])"
      ]
     },
     "execution_count": 6,
     "metadata": {},
     "output_type": "execute_result"
    }
   ],
   "source": [
    "r,w = legendre_roots_and_weights(5)"
   ]
  },
  {
   "cell_type": "code",
   "execution_count": 7,
   "id": "e95028a4",
   "metadata": {
    "scrolled": true
   },
   "outputs": [
    {
     "name": "stdout",
     "output_type": "stream",
     "text": [
      "┌────────┬───────────┬───────────┐\n",
      "│\u001b[1m Degree \u001b[0m│\u001b[1m     Roots \u001b[0m│\u001b[1m   Weights \u001b[0m│\n",
      "│\u001b[90m String \u001b[0m│\u001b[90m   Float64 \u001b[0m│\u001b[90m   Float64 \u001b[0m│\n",
      "├────────┼───────────┼───────────┤\n",
      "│      2 │  -0.57735 │       1.0 │\n",
      "│        │   0.57735 │       1.0 │\n",
      "│      3 │ -0.774597 │  0.555556 │\n",
      "│        │       0.0 │  0.888889 │\n",
      "│        │  0.774597 │  0.555556 │\n",
      "│      4 │ -0.861136 │  0.347855 │\n",
      "│        │ -0.339981 │  0.652145 │\n",
      "│        │  0.339981 │  0.652145 │\n",
      "│        │  0.861136 │  0.347855 │\n",
      "│      5 │  -0.90618 │  0.236927 │\n",
      "│        │ -0.538469 │  0.478629 │\n",
      "│        │       0.0 │  0.568889 │\n",
      "│        │  0.538469 │  0.478629 │\n",
      "│        │   0.90618 │  0.236927 │\n",
      "│      6 │  -0.93247 │  0.171324 │\n",
      "│        │ -0.661209 │  0.360762 │\n",
      "│        │ -0.238619 │  0.467914 │\n",
      "│        │  0.238619 │  0.467914 │\n",
      "│        │  0.661209 │  0.360762 │\n",
      "│        │   0.93247 │  0.171324 │\n",
      "│      7 │ -0.949108 │  0.129485 │\n",
      "│        │ -0.741531 │  0.279705 │\n",
      "│        │ -0.405845 │   0.38183 │\n",
      "│        │       0.0 │  0.417959 │\n",
      "│        │  0.405845 │   0.38183 │\n",
      "│        │  0.741531 │  0.279705 │\n",
      "│        │  0.949108 │  0.129485 │\n",
      "│      8 │  -0.96029 │  0.101229 │\n",
      "│        │ -0.796666 │  0.222381 │\n",
      "│        │ -0.525532 │  0.313707 │\n",
      "│        │ -0.183435 │  0.362684 │\n",
      "│        │  0.183435 │  0.362684 │\n",
      "│        │  0.525532 │  0.313707 │\n",
      "│        │  0.796666 │  0.222381 │\n",
      "│        │   0.96029 │  0.101229 │\n",
      "│      9 │  -0.96816 │ 0.0812744 │\n",
      "│        │ -0.836031 │  0.180648 │\n",
      "│        │ -0.613371 │  0.260611 │\n",
      "│        │ -0.324253 │  0.312347 │\n",
      "│        │       0.0 │  0.330239 │\n",
      "│        │  0.324253 │  0.312347 │\n",
      "│        │  0.613371 │  0.260611 │\n",
      "│        │  0.836031 │  0.180648 │\n",
      "│        │   0.96816 │ 0.0812744 │\n",
      "│     10 │ -0.973907 │ 0.0666713 │\n",
      "│        │ -0.865063 │  0.149451 │\n",
      "│        │  -0.67941 │  0.219086 │\n",
      "│        │ -0.433395 │  0.269267 │\n",
      "│        │ -0.148874 │  0.295524 │\n",
      "│        │  0.148874 │  0.295524 │\n",
      "│        │  0.433395 │  0.269267 │\n",
      "│        │   0.67941 │  0.219086 │\n",
      "│        │  0.865063 │  0.149451 │\n",
      "│        │  0.973907 │ 0.0666713 │\n",
      "└────────┴───────────┴───────────┘\n"
     ]
    }
   ],
   "source": [
    "df = DataFrame(Degree = String[], Roots = Float64[], Weights = Float64[]) # store data\n",
    "n = 10                                                                    # set max degree\n",
    "last_degree = 0                                                           # track degree n\n",
    "\n",
    "# calculate and add the roots and weights for degrees 2 to 10\n",
    "for n in 2:n\n",
    "    roots, weights = legendre_roots_and_weights(n)\n",
    "    \n",
    "    # add the roots and weights for the current degree\n",
    "    for (root, weight) in zip(roots, weights)                            # pair roots and weights\n",
    "        if n != last_degree\n",
    "            push!(df, [string(n), root, weight])                         # add data with degree n\n",
    "            last_degree = n                                              # switch degree if needed\n",
    "        else\n",
    "            push!(df, [\"\", root, weight])                                # makes degree col cleaner\n",
    "        end\n",
    "    end\n",
    "end\n",
    "\n",
    "#show(df, show_row_number = false, allcols=true, allrows=true)\n",
    "pretty_table(df)                                                        # convert to a pretty table :D"
   ]
  },
  {
   "cell_type": "markdown",
   "id": "e53b1c89",
   "metadata": {},
   "source": [
    "Test functions to make sure they have correct outputs"
   ]
  },
  {
   "cell_type": "code",
   "execution_count": 8,
   "id": "99651505",
   "metadata": {},
   "outputs": [
    {
     "data": {
      "text/plain": [
       "1.9333904692642967"
      ]
     },
     "execution_count": 8,
     "metadata": {},
     "output_type": "execute_result"
    }
   ],
   "source": [
    "# example 1 from B&F 4.7\n",
    "r,w = legendre_roots_and_weights(3)    # find roots and weights\n",
    "h(x) = exp(x)*cos(x)                        # define h(x)\n",
    "I = dot(w, h.(r))                           # evaluate integral"
   ]
  },
  {
   "cell_type": "code",
   "execution_count": 11,
   "id": "cfe469b4",
   "metadata": {},
   "outputs": [
    {
     "name": "stdout",
     "output_type": "stream",
     "text": [
      "Expected solution: 1.9334214962007135\n",
      "\n",
      "Gauss-Legendre Approximation:\n",
      "n = 2: I = 1.9629727607543537\n",
      "n = 3: I = 1.9333904692642967\n",
      "n = 4: I = 1.9334168941640448\n",
      "n = 5: I = 1.933421497268504\n",
      "n = 6: I = 1.9334214962992713\n",
      "n = 7: I = 1.9334214962007055\n",
      "n = 8: I = 1.9334214962007126\n",
      "n = 9: I = 1.9334214962007132\n",
      "n = 10: I = 1.9334214962007141\n"
     ]
    }
   ],
   "source": [
    "#f(x) = 1/(2+x)\n",
    "#f(x) = 0.5*exp(-((1+x)/2)^2)\n",
    "f(x) = exp(x)*cos(x)\n",
    "I = quadgk(f, -1, 1)[1]                           # compute integral using package\n",
    "\n",
    "println(\"Expected solution: $I\\n\")                # solution to integral\n",
    "\n",
    "println(\"Gauss-Legendre Approximation:\")\n",
    "for n = 2:10\n",
    "    r, w = legendre_roots_and_weights(n)\n",
    "    println(\"n = $n: I = \", dot(w, f.(r)))        # approx per degree n\n",
    "end"
   ]
  },
  {
   "cell_type": "code",
   "execution_count": 306,
   "id": "03395ac3",
   "metadata": {},
   "outputs": [],
   "source": [
    "my_roots_weights = []                                             # lists to store data\n",
    "expected_roots_weights = []                                       \n",
    "\n",
    "# not clean and not optimized, but works enough\n",
    "for n = 2:10\n",
    "    my_roots, my_weights = legendre_roots_and_weights(n)          # call my function\n",
    "    exp_roots, exp_weights = gausslegendre(n)                     # function from package\n",
    "    \n",
    "    for (my_root, my_weight) in zip(my_roots, my_weights)         # whatever i get\n",
    "        push!(my_roots_weights, [my_root, my_weight])\n",
    "    end\n",
    "    \n",
    "    for (exp_root, exp_weight) in zip(exp_roots, exp_weights)     # what's expected\n",
    "        push!(expected_roots_weights, [exp_root, exp_weight])\n",
    "    end\n",
    "end"
   ]
  },
  {
   "cell_type": "markdown",
   "id": "92cbc44b",
   "metadata": {},
   "source": [
    "\"UNIT TESTING\""
   ]
  },
  {
   "cell_type": "code",
   "execution_count": 310,
   "id": "8b3c1b12",
   "metadata": {},
   "outputs": [
    {
     "name": "stdout",
     "output_type": "stream",
     "text": [
      "\u001b[0m\u001b[1mTest Summary:  | \u001b[22m\u001b[32m\u001b[1mPass  \u001b[22m\u001b[39m\u001b[36m\u001b[1mTotal  \u001b[22m\u001b[39m\u001b[0m\u001b[1mTime\u001b[22m\n",
      "Gauss-Legendre | \u001b[32m   8  \u001b[39m\u001b[36m    8  \u001b[39m\u001b[0m0.1s\n"
     ]
    },
    {
     "data": {
      "text/plain": [
       "Test.DefaultTestSet(\"Gauss-Legendre\", Any[], 8, false, false, true, 1.69931028071e9, 1.699310280807e9, false)"
      ]
     },
     "execution_count": 310,
     "metadata": {},
     "output_type": "execute_result"
    }
   ],
   "source": [
    "@testset \"Gauss-Legendre\" begin\n",
    "    \n",
    "    @test_throws DomainError legendre_roots_and_weights(-2)        # check error cases\n",
    "    @test_throws DomainError legendre_roots_and_weights(5.5)  \n",
    "    \n",
    "    @test legendre(6, 0.5) ≈ Pl(0.5, 6)                            # legendre poly n=6\n",
    "    @test legendre_derivative(6, 0.5) ≈ dnPl(0.5, 6, 1)            # first derivative\n",
    "\n",
    "    exp_roots, exp_weights = gausslegendre(6)                      # external package\n",
    "    my_roots, my_weights = legendre_roots_and_weights(6)           # my function\n",
    "\n",
    "    @test exp_roots ≈ my_roots\n",
    "    @test exp_weights ≈ my_weights\n",
    "    \n",
    "    g(x) = x^4-4x^2+12                                             # another integral\n",
    "    I = dot(my_weights, g.(my_roots))\n",
    "    @test I ≈ 326/15\n",
    "    \n",
    "    @test my_roots_weights ≈ expected_roots_weights                # check from n=2-10\n",
    "    \n",
    "end"
   ]
  },
  {
   "cell_type": "markdown",
   "id": "383e933f",
   "metadata": {},
   "source": [
    "Quite slow compared to an already tested library/package"
   ]
  },
  {
   "cell_type": "code",
   "execution_count": 269,
   "id": "25b71878",
   "metadata": {
    "scrolled": true
   },
   "outputs": [
    {
     "name": "stdout",
     "output_type": "stream",
     "text": [
      "  0.000028 seconds (13 allocations: 1.297 KiB)\n",
      "  0.002301 seconds (2.83 k allocations: 71.578 KiB)\n"
     ]
    },
    {
     "data": {
      "text/plain": [
       "([-0.9739065285171716, -0.8650633666889844, -0.6794095682990243, -0.43339539412924716, -0.1488743389816312, 0.1488743389816312, 0.43339539412924716, 0.6794095682990243, 0.8650633666889844, 0.9739065285171716], [0.06667134430868844, 0.14945134915058064, 0.2190863625159821, 0.26926671930999624, 0.2955242247147529, 0.2955242247147529, 0.26926671930999624, 0.2190863625159821, 0.14945134915058064, 0.06667134430868844])"
      ]
     },
     "execution_count": 269,
     "metadata": {},
     "output_type": "execute_result"
    }
   ],
   "source": [
    "@time roots, weights = gausslegendre(10)\n",
    "@time _roots, _weights = legendre_roots_and_weights(10)"
   ]
  },
  {
   "cell_type": "code",
   "execution_count": 259,
   "id": "9558d122",
   "metadata": {},
   "outputs": [
    {
     "name": "stdout",
     "output_type": "stream",
     "text": [
      "  0.000032 seconds (13 allocations: 2.969 KiB)\n",
      "  6.111748 seconds (6.10 k allocations: 152.406 KiB)\n"
     ]
    },
    {
     "data": {
      "text/plain": [
       "([-0.995556969790498, -0.9766639214595174, -0.9429745712289743, -0.8949919978782753, -0.833442628760834, -0.7592592630373576, -0.6735663684734683, -0.577662930241223, -0.473002731445715, -0.3611723058093878  …  0.3611723058093878, 0.473002731445715, 0.577662930241223, 0.6735663684734683, 0.7592592630373576, 0.833442628760834, 0.8949919978782753, 0.9429745712289743, 0.9766639214595174, 0.995556969790498], [0.011393798501026533, 0.026354986615032334, 0.04093915670130625, 0.054904695975835326, 0.06803833381235701, 0.08014070033500101, 0.09102826198296372, 0.1005359490670506, 0.10851962447426362, 0.11485825914571159  …  0.11485825914571159, 0.10851962447426362, 0.1005359490670506, 0.09102826198296372, 0.08014070033500101, 0.06803833381235701, 0.054904695975835326, 0.04093915670130625, 0.026354986615032334, 0.011393798501026533])"
      ]
     },
     "execution_count": 259,
     "metadata": {},
     "output_type": "execute_result"
    }
   ],
   "source": [
    "@time roots, weights = gausslegendre(25)\n",
    "@time _roots, _weights = legendre_roots_and_weights(25)"
   ]
  },
  {
   "cell_type": "markdown",
   "id": "e15e54a1",
   "metadata": {},
   "source": [
    "FASTERRRR... can use dynamic programming techniques to produce a faster execution time"
   ]
  },
  {
   "cell_type": "code",
   "execution_count": 311,
   "id": "6630f60a",
   "metadata": {},
   "outputs": [
    {
     "data": {
      "text/plain": [
       "faster_legendre_roots_and_weights (generic function with 1 method)"
      ]
     },
     "execution_count": 311,
     "metadata": {},
     "output_type": "execute_result"
    }
   ],
   "source": [
    "function faster_legendre(n, x)\n",
    "    if n == 0\n",
    "        return 1.0\n",
    "    elseif n == 1\n",
    "        return x\n",
    "    else\n",
    "        p0, p1 = 1.0, x\n",
    "        for k in 2:n\n",
    "            p0, p1 = p1, ((2 * k - 1) * x * p1 - (k - 1) * p0) / k\n",
    "        end\n",
    "        return p1\n",
    "    end\n",
    "end\n",
    "\n",
    "function faster_legendre_derivative(n, x)\n",
    "    if n == 0\n",
    "        return 0.0\n",
    "    elseif n == 1\n",
    "        return 0.0\n",
    "    else\n",
    "        p0, p1 = 1.0, x\n",
    "        dp0, dp1 = 0.0, 0.0\n",
    "        for k in 2:n\n",
    "            p0, p1 = p1, ((2 * k - 1) * x * p1 - (k - 1) * p0) / k\n",
    "            dp0, dp1 = dp1, k * (x * p1 - p0) / (x^2 - 1)\n",
    "        end\n",
    "        return dp1\n",
    "    end\n",
    "end\n",
    "\n",
    "function faster_legendre_roots_and_weights(n)\n",
    "    if n < 0 || typeof(n) != Int64\n",
    "        throw(DomainError(\"n must be a non-negative integer.\"))\n",
    "    end\n",
    "\n",
    "    # Use the roots library to find the roots of Legendre polynomial pn(x)\n",
    "    roots = find_zeros(x -> faster_legendre(n, x), -1.0, 1.0)\n",
    "\n",
    "    # Calculate the weights of the Legendre polynomial roots using weights formula\n",
    "    weights = [2 / ((1 - root^2) * faster_legendre_derivative(n, root)^2) for root in roots]\n",
    "\n",
    "    return roots, weights\n",
    "end\n"
   ]
  },
  {
   "cell_type": "code",
   "execution_count": 312,
   "id": "78c7dbd1",
   "metadata": {},
   "outputs": [
    {
     "data": {
      "text/plain": [
       "([-0.7745966692414834, 0.0, 0.7745966692414834], [0.5555555555555551, 0.8888888888888888, 0.5555555555555551])"
      ]
     },
     "execution_count": 312,
     "metadata": {},
     "output_type": "execute_result"
    }
   ],
   "source": [
    "faster_legendre_roots_and_weights(3)"
   ]
  },
  {
   "cell_type": "code",
   "execution_count": 313,
   "id": "2cf97827",
   "metadata": {},
   "outputs": [
    {
     "name": "stdout",
     "output_type": "stream",
     "text": [
      "\u001b[0m\u001b[1mTest Summary:  | \u001b[22m\u001b[32m\u001b[1mPass  \u001b[22m\u001b[39m\u001b[36m\u001b[1mTotal  \u001b[22m\u001b[39m\u001b[0m\u001b[1mTime\u001b[22m\n",
      "Gauss-Legendre | \u001b[32m   8  \u001b[39m\u001b[36m    8  \u001b[39m\u001b[0m0.1s\n"
     ]
    },
    {
     "data": {
      "text/plain": [
       "Test.DefaultTestSet(\"Gauss-Legendre\", Any[], 8, false, false, true, 1.699332269223e9, 1.699332269334e9, false)"
      ]
     },
     "execution_count": 313,
     "metadata": {},
     "output_type": "execute_result"
    }
   ],
   "source": [
    "@testset \"Gauss-Legendre\" begin\n",
    "    \n",
    "    @test_throws DomainError faster_legendre_roots_and_weights(-2)    # check error cases\n",
    "    @test_throws DomainError faster_legendre_roots_and_weights(5.5)  \n",
    "    \n",
    "    @test faster_legendre(6, 0.5) ≈ Pl(0.5, 6)                        # legendre poly n=6\n",
    "    @test faster_legendre_derivative(6, 0.5) ≈ dnPl(0.5, 6, 1)        # first derivative\n",
    "\n",
    "    exp_roots, exp_weights = gausslegendre(6)                       # external package\n",
    "    my_roots, my_weights = faster_legendre_roots_and_weights(6)       # my function\n",
    "\n",
    "    @test exp_roots ≈ my_roots\n",
    "    @test exp_weights ≈ my_weights\n",
    "    \n",
    "    f(x) = x^2                                                     # check integral\n",
    "    I = dot(my_weights, f.(my_roots))\n",
    "    @test I ≈ 2/3\n",
    "    \n",
    "    g(x) = x^4-4x^2+12                                             # another integral\n",
    "    I = dot(my_weights, g.(my_roots))\n",
    "    @test I ≈ 326/15\n",
    "    \n",
    "end"
   ]
  },
  {
   "cell_type": "code",
   "execution_count": 297,
   "id": "234bc5f8",
   "metadata": {},
   "outputs": [
    {
     "data": {
      "text/plain": [
       "\u001b[32m\u001b[1mTest Passed\u001b[22m\u001b[39m"
      ]
     },
     "execution_count": 297,
     "metadata": {},
     "output_type": "execute_result"
    }
   ],
   "source": [
    "roots, weights = gausslegendre(25)\n",
    "_roots, _weights = faster_legendre_roots_and_weights(25)\n",
    "\n",
    "@test roots ≈ _roots\n",
    "@test weights ≈ _weights"
   ]
  },
  {
   "cell_type": "markdown",
   "id": "6439cba0",
   "metadata": {},
   "source": [
    "WAYYY faster than previous code, but still not optimally efficient..."
   ]
  },
  {
   "cell_type": "code",
   "execution_count": 321,
   "id": "1599e14c",
   "metadata": {},
   "outputs": [
    {
     "name": "stdout",
     "output_type": "stream",
     "text": [
      "  0.000092 seconds (10 allocations: 147.375 KiB)\n",
      "  6.507521 seconds (155.50 k allocations: 14.313 MiB)\n"
     ]
    },
    {
     "data": {
      "text/plain": [
       "([-0.9999955422488499, -0.9998886778576975, -0.9997334698008677, -0.999622273543701, -0.9995310108404106, -0.9990942709215108, -0.9989556757718179, -0.9988677870779505, -0.998776350060068, -0.9986813650429861  …  0.9986813650429861, 0.998776350060068, 0.9988677870779505, 0.9989556757718179, 0.9990942709215108, 0.9995310108404106, 0.999622273543701, 0.9997334698008677, 0.9998886778576975, 0.9999955422488499], [1.8748524164843578e-6, 9.373901393841853e-6, 1.4504128471175523e-5, 1.7266179515159774e-5, 1.923887178290447e-5, 2.6733205377401842e-5, 2.8704808912935534e-5, 2.9887636320170282e-5, 3.1070357556196205e-5, 3.225296841957945e-5  …  3.225296841957945e-5, 3.1070357556196205e-5, 2.9887636320170282e-5, 2.8704808912935534e-5, 2.6733205377401842e-5, 1.923887178290447e-5, 1.7266179515159774e-5, 1.4504128471175523e-5, 9.373901393841853e-6, 1.8748524164843578e-6])"
      ]
     },
     "execution_count": 321,
     "metadata": {},
     "output_type": "execute_result"
    }
   ],
   "source": [
    "@time roots, weights = gausslegendre(5000)\n",
    "@time _roots, _weights = faster_legendre_roots_and_weights(5000)"
   ]
  }
 ],
 "metadata": {
  "kernelspec": {
   "display_name": "Julia 1.9.3",
   "language": "julia",
   "name": "julia-1.9"
  },
  "language_info": {
   "file_extension": ".jl",
   "mimetype": "application/julia",
   "name": "julia",
   "version": "1.9.3"
  }
 },
 "nbformat": 4,
 "nbformat_minor": 5
}
